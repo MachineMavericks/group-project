{
 "cells": [
  {
   "cell_type": "markdown",
   "metadata": {
    "collapsed": false
   },
   "source": []
  },
  {
   "cell_type": "markdown",
   "metadata": {
    "collapsed": false
   },
   "source": [
    "### IMPORTS"
   ]
  },
  {
   "cell_type": "code",
   "execution_count": null,
   "metadata": {
    "pycharm": {
     "is_executing": true
    }
   },
   "outputs": [],
   "source": [
    "# IMPORTS=\n",
    "import networkx as nx\n",
    "import matplotlib.pyplot as plt\n",
    "import folium\n",
    "\n",
    "# MY_IMPORTS=\n",
    "from src.Models import Graph as G\n",
    "from src.Models import NXGraph as NXG"
   ]
  },
  {
   "cell_type": "markdown",
   "metadata": {
    "collapsed": false
   },
   "source": []
  },
  {
   "cell_type": "markdown",
   "metadata": {
    "collapsed": false
   },
   "source": [
    "### GRAPH AND NXGRAPH OBJECTS INITIALIZATION + METRICS EXTRACTION"
   ]
  },
  {
   "cell_type": "code",
   "execution_count": null,
   "metadata": {},
   "outputs": [],
   "source": [
    "graph = G.Graph('resources/data/input/railway.csv')\n",
    "graph.print_attributes()\n",
    "graph.print_metrics()"
   ]
  },
  {
   "cell_type": "code",
   "execution_count": null,
   "metadata": {},
   "outputs": [],
   "source": [
    "gnx = NXG.nxgraph_loader(graph)\n",
    "NXG.print_metrics(gnx)"
   ]
  },
  {
   "cell_type": "markdown",
   "metadata": {
    "collapsed": false
   },
   "source": []
  },
  {
   "cell_type": "markdown",
   "metadata": {
    "collapsed": false
   },
   "source": [
    "### GRAPH CONVERSION"
   ]
  },
  {
   "cell_type": "code",
   "execution_count": null,
   "metadata": {},
   "outputs": [],
   "source": [
    "# SAVE THE GRAPH AS A JSON FILE:\n",
    "graph.toJSON('resources/data/output/graph.json')\n",
    "\n",
    "# LOAD THE GRAPH FROM A JSON FILE:\n",
    "# ..."
   ]
  },
  {
   "cell_type": "code",
   "execution_count": null,
   "metadata": {},
   "outputs": [],
   "source": [
    "# SAVE THE NETWORKX GRAPH AS A GML STRING\n",
    "gml_string = NXG.nx_to_gml_string(gnx)\n",
    "\n",
    "# SAVE THE NETWORKX GRAPH AS A GML FILE\n",
    "NXG.nx_to_gml_file(gnx, \"resources/data/output/nxgraph.gml\")\n",
    "\n",
    "# LOAD THE NETWORKX GRAPH FROM A GML STRING\n",
    "gnx = NXG.gml_file_to_nx('resources/data/output/nxgraph.gml')\n",
    "# or gnx = NXG.gml_string_to_nx(gml_string)"
   ]
  },
  {
   "cell_type": "markdown",
   "metadata": {
    "collapsed": false
   },
   "source": []
  },
  {
   "cell_type": "markdown",
   "metadata": {
    "collapsed": false
   },
   "source": [
    "### METRICS VISUALIZATION"
   ]
  },
  {
   "cell_type": "code",
   "execution_count": null,
   "metadata": {},
   "outputs": [],
   "source": [
    "components = list(nx.connected_components(gnx))\n",
    "amount_of_components = len(components)\n",
    "print('Amount of components in the NetworkX graph: ' + str(amount_of_components))\n",
    "# Every 3 components, make a figure with the 3 components:\n",
    "for i in range(0, amount_of_components, 3):\n",
    "    fig, ax = plt.subplots(1, 3, figsize=(20, 5))\n",
    "    for j in range(3):\n",
    "        if i + j < amount_of_components:\n",
    "            subgraph = gnx.subgraph(components[i + j])\n",
    "            pos = {node[0]: (node[1]['lon'], node[1]['lat']) for node in subgraph.nodes(data=True)}\n",
    "            nx.draw_networkx_nodes(subgraph, pos, node_size=1, node_color='red', ax=ax[j])\n",
    "            nx.draw_networkx_edges(subgraph, pos, edge_color='black', width=0.2, ax=ax[j])\n",
    "            ax[j].set_title('Component ' + str(i + j))\n",
    "    plt.show()"
   ]
  },
  {
   "cell_type": "code",
   "execution_count": null,
   "metadata": {},
   "outputs": [],
   "source": [
    "# Degree distribution:\n",
    "degree_sequence = sorted([d for n, d in gnx.degree()], reverse=True)\n",
    "degreeCount = {}\n",
    "for degree in degree_sequence:\n",
    "    if degree in degreeCount:\n",
    "        degreeCount[degree] += 1\n",
    "    else:\n",
    "        degreeCount[degree] = 1\n",
    "deg, cnt = zip(*degreeCount.items())\n",
    "fig, ax = plt.subplots()\n",
    "plt.bar(deg, cnt, width=0.80, color='b')\n",
    "plt.title(\"Degree Histogram\")\n",
    "plt.ylabel(\"Count\")\n",
    "plt.xlabel(\"Degree\")\n",
    "ax.set_xticks([d + 0.4 for d in deg])\n",
    "ax.set_xticklabels(deg)\n",
    "plt.show()"
   ]
  },
  {
   "cell_type": "markdown",
   "metadata": {
    "collapsed": false
   },
   "source": [
    "### VISUALIZATION\n"
   ]
  },
  {
   "cell_type": "code",
   "execution_count": null,
   "metadata": {},
   "outputs": [],
   "source": [
    "# Using nodes lat and lon as positions, draw the graph\n",
    "pos = {node[0]: (node[1]['lon'], node[1]['lat']) for node in gnx.nodes(data=True)}\n",
    "nx.draw_networkx_nodes(gnx, pos, node_size=1, node_color='red')\n",
    "nx.draw_networkx_edges(gnx, pos, edge_color='black', width=0.2)\n",
    "# plt.show()"
   ]
  },
  {
   "cell_type": "code",
   "execution_count": null,
   "metadata": {},
   "outputs": [],
   "source": [
    "china_json_path = 'resources/data/input/china.json'\n",
    "# Plot the graph on top of the map of China using geopandas:\n",
    "import geopandas as gpd\n",
    "china_map = gpd.read_file(china_json_path)\n",
    "china_map.plot()\n",
    "# Plot the graph on top of it:\n",
    "pos = {node[0]: (node[1]['lon'], node[1]['lat']) for node in gnx.nodes(data=True)}\n",
    "nx.draw_networkx_nodes(gnx, pos, node_size=1, node_color='red')\n",
    "nx.draw_networkx_edges(gnx, pos, edge_color='black', width=0.2)\n",
    "plt.show()"
   ]
  },
  {
   "cell_type": "code",
   "execution_count": null,
   "metadata": {},
   "outputs": [],
   "source": [
    "# Create a NetworkX graph\n",
    "gnx = nx.Graph()\n",
    "for node in graph.nodes:\n",
    "    gnx.add_nodes_from([(node.id, {'lat': node.position.lat, 'lon': node.position.lon})])\n",
    "for edge in graph.edges:\n",
    "    gnx.add_edges_from([(edge.fromNode.id, edge.destNode.id, {'fromLat': edge.fromNode.position.lat, 'fromLon': edge.fromNode.position.lon, 'destLat': edge.destNode.position.lat, 'destLon': edge.destNode.position.lon})])\n",
    "pos = {node[0]: (node[1]['lon'], node[1]['lat']) for node in gnx.nodes(data=True)}\n",
    "nx.draw_networkx_nodes(gnx, pos, node_size=0.2, node_color='grey')\n",
    "nx.draw_networkx_edges(gnx, pos, edge_color='black', width=0.2)\n",
    "\n",
    "\n",
    "# Sort the df by the st_no:\n",
    "graph.df.sort_values(by=['st_no'], inplace=True, ascending=False)\n",
    "top20trains = []\n",
    "for train in graph.df['train'].unique():\n",
    "    top20trains.append(train)\n",
    "    if len(top20trains) == 20:\n",
    "        break\n",
    "graph.df.sort_values(by=['train', 'st_no'], inplace=True, ascending=True)\n",
    "current_train = ''\n",
    "current_color = ''\n",
    "top20paths = []\n",
    "edges = []\n",
    "for index, row in graph.df.iterrows():\n",
    "    if row.train in top20trains:\n",
    "        if row.train != current_train:\n",
    "            top20paths.append(edges)\n",
    "            edges = []\n",
    "            current_train = row.train\n",
    "        if not (row['stay_time'] == '-' and graph.df.iloc[index - 1]['stay_time'] == '-') and (row['train'] == graph.df.iloc[index - 1]['train']):\n",
    "            fromNode = G.Node(graph.df.iloc[index - 1]['st_id'], G.Position(graph.df.iloc[index - 1]['lat'], graph.df.iloc[index - 1]['lon']), [])\n",
    "            destNode = G.Node(row['st_id'], G.Position(row['lat'], row['lon']), [])\n",
    "            edge = G.Edge(index, fromNode, destNode, row['mileage'], 0)\n",
    "            edges.append(edge)\n",
    "top20paths.pop(0)\n",
    "\n",
    "networkx_colors = ['yellow', 'green', 'cyan', 'red']\n",
    "for i in range(len(top20paths)):\n",
    "    gnx2 = nx.Graph()\n",
    "    color = networkx_colors[i%len(networkx_colors)]\n",
    "    for edge in top20paths[i]:\n",
    "        gnx2.add_nodes_from([(edge.fromNode.id, {'lat': edge.fromNode.position.lat, 'lon': edge.fromNode.position.lon})])\n",
    "        gnx2.add_nodes_from([(edge.destNode.id, {'lat': edge.destNode.position.lat, 'lon': edge.destNode.position.lon})])\n",
    "        gnx2.add_edges_from([(edge.fromNode.id, edge.destNode.id, {'fromLat': edge.fromNode.position.lat, 'fromLon': edge.fromNode.position.lon, 'destLat': edge.destNode.position.lat, 'destLon': edge.destNode.position.lon})])\n",
    "    pos2 = {node[0]: (node[1]['lon'], node[1]['lat']) for node in gnx2.nodes(data=True)}\n",
    "    nx.draw_networkx_nodes(gnx2, pos2, node_size=2, node_color=color)\n",
    "    nx.draw_networkx_edges(gnx2, pos2, edge_color=color, width=1)\n",
    "plt.show()"
   ]
  },
  {
   "cell_type": "markdown",
   "metadata": {
    "collapsed": false
   },
   "source": []
  },
  {
   "cell_type": "markdown",
   "metadata": {
    "collapsed": false
   },
   "source": [
    "# FOLIUM"
   ]
  },
  {
   "cell_type": "code",
   "execution_count": null,
   "metadata": {},
   "outputs": [],
   "source": [
    "# Create a map of China\n",
    "map = folium.Map(tiles='Stamen Terrain', width='100%', height='100%', zoom_start=6, location=[35, 105])\n",
    "nodes = folium.FeatureGroup(name='Nodes')\n",
    "edges = folium.FeatureGroup(name='Edges')\n",
    "\n",
    "# ADD NODES TO FOLIUM:\n",
    "for node in graph.nodes:\n",
    "    # If the node has no position, do not add it to the map:\n",
    "    if node.position is None:\n",
    "        continue\n",
    "    # Add a marker for each node:\n",
    "    popup = folium.Popup('<b>Node ID:</b> ' + str(node.id), max_width=200)\n",
    "    nodes.add_child(folium.CircleMarker(location=[node.position.lat, node.position.lon], radius=7, popup=popup, fill_color='red', color='black', fill_opacity=0.7))\n",
    "\n",
    "# ADD EDGES TO FOLIUM:\n",
    "for edge in graph.edges:\n",
    "    ptA = [edge.fromNode.position.lat, edge.fromNode.position.lon]\n",
    "    ptB = [edge.destNode.position.lat, edge.destNode.position.lon]\n",
    "    # If either of the nodes has no position, do not add the edge to the map:\n",
    "    if None in ptA or None in ptB:\n",
    "        continue\n",
    "    # Add a line for each edge:\n",
    "    edges.add_child(folium.PolyLine(locations=[ptA, ptB], weight=1, color='black', opacity=0.3))\n",
    "\n",
    "# Add the feature groups to the map:\n",
    "map.add_child(edges)\n",
    "map.add_child(nodes)\n",
    "# Add a layer control to the map:\n",
    "folium.LayerControl().add_to(map)\n",
    "# Save the map to an HTML file:\n",
    "map.save('resources/data/output/map.html')"
   ]
  },
  {
   "cell_type": "markdown",
   "metadata": {
    "collapsed": false
   },
   "source": []
  },
  {
   "cell_type": "markdown",
   "metadata": {
    "collapsed": false
   },
   "source": [
    "# CLUSTERING"
   ]
  },
  {
   "cell_type": "code",
   "execution_count": null,
   "metadata": {},
   "outputs": [],
   "source": [
    "# Create a NetworkX graph\n",
    "gnx = nx.Graph()\n",
    "for node in graph.nodes:\n",
    "    gnx.add_nodes_from([(node.id, {'lat': node.position.lat, 'lon': node.position.lon})])\n",
    "for edge in graph.edges:\n",
    "    gnx.add_edges_from([(edge.fromNode.id, edge.destNode.id, {'fromLat': edge.fromNode.position.lat, 'fromLon': edge.fromNode.position.lon, 'destLat': edge.destNode.position.lat, 'destLon': edge.destNode.position.lon})])\n",
    "pos = {node[0]: (node[1]['lon'], node[1]['lat']) for node in gnx.nodes(data=True)}\n",
    "\n",
    "# Cluster the NetworkX graph nodes using KMeans, and plot the clusters:\n",
    "from sklearn.cluster import KMeans\n",
    "kmeans = KMeans(n_clusters=10, random_state=0).fit(list(pos.values()))\n",
    "clusters = kmeans.predict(list(pos.values()))\n",
    "nx.draw_networkx_nodes(gnx, pos, node_size=1, node_color=clusters, cmap=plt.cm.jet)\n",
    "nx.draw_networkx_edges(gnx, pos, edge_color='black', width=0.2)\n",
    "plt.show()"
   ]
  },
  {
   "cell_type": "code",
   "execution_count": null,
   "metadata": {},
   "outputs": [],
   "source": [
    "# Cluster the NetworkX graph nodes using DBSCAN, and plot the clusters:\n",
    "from sklearn.cluster import DBSCAN\n",
    "dbscan = DBSCAN(eps=0.5, min_samples=10).fit(list(pos.values()))\n",
    "clusters = dbscan.labels_\n",
    "nx.draw_networkx_nodes(gnx, pos, node_size=1, node_color=clusters, cmap=plt.cm.jet)\n",
    "nx.draw_networkx_edges(gnx, pos, edge_color='black', width=0.2)\n",
    "plt.show()"
   ]
  },
  {
   "cell_type": "code",
   "execution_count": null,
   "metadata": {},
   "outputs": [],
   "source": [
    "# Cluster the NetworkX graph nodes using AgglomerativeClustering, and plot the clusters:\n",
    "from sklearn.cluster import AgglomerativeClustering\n",
    "agg = AgglomerativeClustering(n_clusters=10).fit(list(pos.values()))\n",
    "clusters = agg.labels_\n",
    "nx.draw_networkx_nodes(gnx, pos, node_size=1, node_color=clusters, cmap=plt.cm.jet)\n",
    "nx.draw_networkx_edges(gnx, pos, edge_color='black', width=0.2)\n",
    "plt.show()"
   ]
  },
  {
   "cell_type": "code",
   "execution_count": null,
   "metadata": {},
   "outputs": [],
   "source": [
    "# Cluster the NetworkX graph nodes using SpectralClustering, and plot the clusters:\n",
    "from sklearn.cluster import SpectralClustering\n",
    "spec = SpectralClustering(n_clusters=10, affinity='nearest_neighbors').fit(list(pos.values()))\n",
    "clusters = spec.labels_\n",
    "nx.draw_networkx_nodes(gnx, pos, node_size=1, node_color=clusters, cmap=plt.cm.jet)\n",
    "nx.draw_networkx_edges(gnx, pos, edge_color='black', width=0.2)\n",
    "plt.show()"
   ]
  },
  {
   "cell_type": "markdown",
   "metadata": {
    "collapsed": false
   },
   "source": []
  },
  {
   "cell_type": "markdown",
   "metadata": {
    "collapsed": false
   },
   "source": [
    "# DEGREE CENTRALITY"
   ]
  },
  {
   "cell_type": "code",
   "execution_count": null,
   "metadata": {},
   "outputs": [],
   "source": [
    "# Find the node with the highest degree centrality:\n",
    "from networkx.algorithms.centrality import degree_centrality\n",
    "degree_centrality = degree_centrality(gnx)\n",
    "max_degree_centrality = max(degree_centrality.values())\n",
    "max_degree_centrality_node = [node for node in degree_centrality if degree_centrality[node] == max_degree_centrality][0]\n",
    "print('Node with highest degree centrality:', max_degree_centrality_node)\n",
    "# Remove the node with the highest degree centrality from the graph:\n",
    "gnx2 = gnx.copy()\n",
    "print('Amount of nodes in the NetworkX graph: ' + str(gnx2.number_of_nodes()) + ', before removing the node with the highest degree centrality.')\n",
    "gnx2.remove_node(max_degree_centrality_node)\n",
    "print('Amount of nodes in the NetworkX graph: ' + str(gnx2.number_of_nodes()) + ', after removing the node with the highest degree centrality.')\n",
    "# Plot the all subgraphs:\n",
    "components = list(nx.connected_components(gnx2))\n",
    "amount_of_components = len(components)\n",
    "print('Amount of components in the NetworkX graph: ' + str(amount_of_components))\n",
    "for i in range(0, amount_of_components, 3):\n",
    "    fig, ax = plt.subplots(1, 3, figsize=(20, 5))\n",
    "    for j in range(3):\n",
    "        if i + j < amount_of_components:\n",
    "            subgraph = gnx2.subgraph(components[i + j])\n",
    "            pos = {node[0]: (node[1]['lon'], node[1]['lat']) for node in subgraph.nodes(data=True)}\n",
    "            nx.draw_networkx_nodes(subgraph, pos, node_size=1, node_color='red', ax=ax[j])\n",
    "            nx.draw_networkx_edges(subgraph, pos, edge_color='black', width=0.2, ax=ax[j])\n",
    "            ax[j].set_title('Component ' + str(i + j))\n",
    "    plt.show()"
   ]
  },
  {
   "cell_type": "code",
   "execution_count": null,
   "metadata": {},
   "outputs": [],
   "source": [
    "# Plot the graph with the node with the highest degree centrality in green:\n",
    "pos = {node[0]: (node[1]['lon'], node[1]['lat']) for node in gnx.nodes(data=True)}\n",
    "nx.draw_networkx_nodes(gnx, pos, nodelist=gnx.nodes, node_size=1, node_color='grey')\n",
    "nx.draw_networkx_nodes(gnx, pos, nodelist=[max_degree_centrality_node], node_size=300, node_color='red', node_shape='*', edgecolors='white', linewidths=1, label='Node with highest degree centrality')\n",
    "nx.draw_networkx_edges(gnx, pos, edge_color='black', width=0.2)"
   ]
  },
  {
   "cell_type": "markdown",
   "metadata": {
    "collapsed": false
   },
   "source": []
  },
  {
   "cell_type": "markdown",
   "metadata": {
    "collapsed": false
   },
   "source": [
    "# BETWEENNESS CENTRALITY"
   ]
  },
  {
   "cell_type": "code",
   "execution_count": null,
   "metadata": {},
   "outputs": [],
   "source": [
    "# Find the node with the highest betweenness centrality:\n",
    "from networkx.algorithms.centrality import betweenness_centrality\n",
    "betweenness_centrality = betweenness_centrality(gnx)\n",
    "max_betweenness_centrality = max(betweenness_centrality.values())\n",
    "max_betweenness_centrality_node = [node for node in betweenness_centrality if betweenness_centrality[node] == max_betweenness_centrality][0]\n",
    "print('Node with highest betweenness centrality:', max_betweenness_centrality_node)"
   ]
  },
  {
   "cell_type": "code",
   "execution_count": null,
   "metadata": {},
   "outputs": [],
   "source": [
    "# Remove the node with the highest betweenness centrality from the graph:\n",
    "gnx3 = gnx.copy()\n",
    "print('Amount of nodes in the NetworkX graph: ' + str(gnx3.number_of_nodes()) + ', before removing the node with the highest betweenness centrality.')\n",
    "gnx3.remove_node(max_betweenness_centrality_node)\n",
    "print('Amount of nodes in the NetworkX graph: ' + str(gnx3.number_of_nodes()) + ', after removing the node with the highest betweenness centrality.')\n",
    "# Plot the all subgraphs:\n",
    "components = list(nx.connected_components(gnx3))\n",
    "amount_of_components = len(components)\n",
    "print('Amount of components in the NetworkX graph: ' + str(amount_of_components))\n",
    "for i in range(0, amount_of_components, 3):\n",
    "    fig, ax = plt.subplots(1, 3, figsize=(20, 5))\n",
    "    for j in range(3):\n",
    "        if i + j < amount_of_components:\n",
    "            subgraph = gnx3.subgraph(components[i + j])\n",
    "            pos = {node[0]: (node[1]['lon'], node[1]['lat']) for node in subgraph.nodes(data=True)}\n",
    "            nx.draw_networkx_nodes(subgraph, pos, node_size=1, node_color='red', ax=ax[j])\n",
    "            nx.draw_networkx_edges(subgraph, pos, edge_color='black', width=0.2, ax=ax[j])\n",
    "            ax[j].set_title('Component ' + str(i + j))\n",
    "    plt.show()"
   ]
  },
  {
   "cell_type": "code",
   "execution_count": null,
   "metadata": {},
   "outputs": [],
   "source": [
    "# Plot the graph with the node with the highest betweenes centrality:\n",
    "pos = {node[0]: (node[1]['lon'], node[1]['lat']) for node in gnx.nodes(data=True)}\n",
    "nx.draw_networkx_nodes(gnx, pos, nodelist=gnx.nodes, node_size=1, node_color='grey')\n",
    "nx.draw_networkx_nodes(gnx, pos, nodelist=[max_betweenness_centrality_node], node_size=300, node_color='red', node_shape='*', edgecolors='white', linewidths=1, label='Node with highest betweenness centrality')\n",
    "nx.draw_networkx_edges(gnx, pos, edge_color='black', width=0.2)"
   ]
  },
  {
   "cell_type": "code",
   "execution_count": null,
   "metadata": {},
   "outputs": [],
   "source": [
    "# Find the node with the highest closeness centrality:\n",
    "from networkx.algorithms.centrality import closeness_centrality\n",
    "closeness_centrality = closeness_centrality(gnx)\n",
    "max_closeness_centrality = max(closeness_centrality.values())\n",
    "max_closeness_centrality_node = [node for node in closeness_centrality if closeness_centrality[node] == max_closeness_centrality][0]\n",
    "print('Node with highest closeness centrality:', max_closeness_centrality_node)"
   ]
  },
  {
   "cell_type": "code",
   "execution_count": null,
   "metadata": {},
   "outputs": [],
   "source": [
    "# Remove the node with the highest closeness centrality from the graph:\n",
    "gnx4 = gnx.copy()\n",
    "print('Amount of nodes in the NetworkX graph: ' + str(gnx4.number_of_nodes()) + ', before removing the node with the highest closeness centrality.')\n",
    "gnx4.remove_node(max_closeness_centrality_node)\n",
    "print('Amount of nodes in the NetworkX graph: ' + str(gnx4.number_of_nodes()) + ', after removing the node with the highest closeness centrality.')\n",
    "# Plot the all subgraphs:\n",
    "components = list(nx.connected_components(gnx4))\n",
    "amount_of_components = len(components)\n",
    "print('Amount of components in the NetworkX graph: ' + str(amount_of_components))\n",
    "for i in range(0, amount_of_components, 3):\n",
    "    fig, ax = plt.subplots(1, 3, figsize=(20, 5))\n",
    "    for j in range(3):\n",
    "        if i + j < amount_of_components:\n",
    "            subgraph = gnx4.subgraph(components[i + j])\n",
    "            pos = {node[0]: (node[1]['lon'], node[1]['lat']) for node in subgraph.nodes(data=True)}\n",
    "            nx.draw_networkx_nodes(subgraph, pos, node_size=1, node_color='red', ax=ax[j])\n",
    "            nx.draw_networkx_edges(subgraph, pos, edge_color='black', width=0.2, ax=ax[j])\n",
    "            ax[j].set_title('Component ' + str(i + j))\n",
    "    plt.show()"
   ]
  },
  {
   "cell_type": "code",
   "execution_count": null,
   "metadata": {},
   "outputs": [],
   "source": [
    "# Plot the graph with the node with the highest closeness centrality:\n",
    "pos = {node[0]: (node[1]['lon'], node[1]['lat']) for node in gnx.nodes(data=True)}\n",
    "nx.draw_networkx_nodes(gnx, pos, nodelist=gnx.nodes, node_size=1, node_color='grey')\n",
    "nx.draw_networkx_nodes(gnx, pos, nodelist=[max_closeness_centrality_node], node_size=300, node_color='red', node_shape='*', edgecolors='white', linewidths=1, label='Node with highest closeness centrality')\n",
    "nx.draw_networkx_edges(gnx, pos, edge_color='black', width=0.2)"
   ]
  },
  {
   "cell_type": "markdown",
   "metadata": {
    "collapsed": false
   },
   "source": [
    "We notice that the node with the highest close centrality is the same as the node with the highest betweenness centrality."
   ]
  },
  {
   "cell_type": "code",
   "execution_count": null,
   "metadata": {},
   "outputs": [],
   "source": [
    "# Sum up the centrality measures:\n",
    "print('Node with highest degree centrality:', max_degree_centrality_node)\n",
    "print('Node with highest betweenness centrality:', max_betweenness_centrality_node)\n",
    "print('Node with highest closeness centrality:', max_closeness_centrality_node)"
   ]
  },
  {
   "cell_type": "code",
   "execution_count": null,
   "metadata": {},
   "outputs": [],
   "source": []
  }
 ],
 "metadata": {
  "kernelspec": {
   "display_name": "Python 3 (ipykernel)",
   "language": "python",
   "name": "python3"
  },
  "language_info": {
   "codemirror_mode": {
    "name": "ipython",
    "version": 3
   },
   "file_extension": ".py",
   "mimetype": "text/x-python",
   "name": "python",
   "nbconvert_exporter": "python",
   "pygments_lexer": "ipython3",
   "version": "3.10.9"
  }
 },
 "nbformat": 4,
 "nbformat_minor": 1
}
