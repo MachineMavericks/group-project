{
 "cells": [
  {
   "cell_type": "markdown",
   "metadata": {},
   "source": [
    "# GRAPH"
   ]
  },
  {
   "cell_type": "code",
   "execution_count": null,
   "metadata": {
    "pycharm": {
     "is_executing": true
    }
   },
   "outputs": [],
   "source": [
    "from src.Models.Graph import Graph\n",
    "graph = Graph(\"resources/data/input/railway.csv\", save_csvs=True, output_dir=\"resources/data/output/\")"
   ]
  },
  {
   "cell_type": "code",
   "execution_count": null,
   "metadata": {},
   "outputs": [],
   "source": [
    "from src.Services.GraphService import *\n",
    "print(\"Graph has {} nodes and {} edges.\".format(len(graph.nodes), len(graph.edges)))\n",
    "graph_day1 = day_n_graph(graph, 1)\n",
    "print(\"Graph (day 1) has {} nodes and {} edges.\".format(len(graph_day1.nodes), len(graph_day1.edges)))\n",
    "graph_day2 = day_n_graph(graph, 2)\n",
    "print(\"Graph (day 2) has {} nodes and {} edges.\".format(len(graph_day2.nodes), len(graph_day2.edges)))\n",
    "graph_day3 = day_n_graph(graph, 3)\n",
    "print(\"Graph (day 3) has {} nodes and {} edges.\".format(len(graph_day3.nodes), len(graph_day3.edges)))\n",
    "graph_day4 = day_n_graph(graph, 4)\n",
    "print(\"Graph (day 4) has {} nodes and {} edges.\".format(len(graph_day4.nodes), len(graph_day4.edges)))\n",
    "graph_day5 = day_n_graph(graph, 5)\n",
    "print(\"Graph (day 5) has {} nodes and {} edges.\".format(len(graph_day5.nodes), len(graph_day5.edges)))\n",
    "print(\"End of given day cycles.\")"
   ]
  },
  {
   "cell_type": "markdown",
   "metadata": {},
   "source": []
  },
  {
   "cell_type": "markdown",
   "metadata": {},
   "source": [
    "# NXGRAPH\n"
   ]
  },
  {
   "cell_type": "code",
   "execution_count": null,
   "metadata": {},
   "outputs": [],
   "source": [
    "from src.Models.NXGraph import NXGraph\n",
    "nxgraph = NXGraph(graph, dataset_number=1, weight=\"passage\")\n",
    "\n",
    "import networkx as nx\n",
    "nx.write_gml(nxgraph, \"resources/data/output/nxgraph.gml\")\n",
    "nxgraph = nx.read_gml(\"resources/data/output/nxgraph.gml\", destringizer=int)"
   ]
  },
  {
   "cell_type": "code",
   "execution_count": null,
   "metadata": {},
   "outputs": [],
   "source": [
    "from src.Services.NXGraphService import *\n",
    "\n",
    "# SETTINGS=\n",
    "n = 4\n",
    "days = [1, 2, 3, 4]\n",
    "\n",
    "# UNIQUE DAYS VALUES=\n",
    "# plt_day_n_nxgraph(nxgraph, n)   # Graph components that are at least active on day n\n",
    "# plt_day_n_only_nxgraph(nxgraph, n)  # Graph components that are active only on day n, and not on any other day\n",
    "\n",
    "# COMBOS OF DAYS=\n",
    "# plt_days_n_nxgraph(nxgraph, days[:n])  # Graph components that are at least active on days 1, 2, ..., n\n",
    "# plt_days_n_only_nxgraph(nxgraph, days[:n])  # Graph components that are active only on days 1, 2, ..., n, and not on any other day\n",
    "\n",
    "# 16 FIGURES=\n",
    "plt_16_figure_atleastdays_nxgraph(nxgraph)\n",
    "plt_16_figure_onlydays_nxgraph(nxgraph)"
   ]
  },
  {
   "cell_type": "code",
   "execution_count": null,
   "metadata": {
    "pycharm": {
     "is_executing": true
    }
   },
   "outputs": [],
   "source": [
    "import ipywidgets as widgets\n",
    "from ipywidgets import IntRangeSlider\n",
    "def update_slider(slider):\n",
    "    min_value = slider[0]\n",
    "    max_value = slider[1]\n",
    "    plt_atleast_days_n_nxgraph(nxgraph, [min_value, max_value])\n",
    "    plt.show()\n",
    "slider = IntRangeSlider(min=1, max=4, step=1, value=[1, 4])\n",
    "widgets.interact(update_slider, slider=slider)"
   ]
  },
  {
   "cell_type": "markdown",
   "metadata": {},
   "source": []
  },
  {
   "cell_type": "markdown",
   "metadata": {},
   "source": [
    "# HEATMAPS"
   ]
  },
  {
   "cell_type": "code",
   "execution_count": null,
   "metadata": {},
   "outputs": [],
   "source": [
    "from src.Services.NXGraphService import *\n",
    "node_passages_plt_heatmap(nxgraph, save_png=True)\n",
    "edge_travels_plt_heatmap(nxgraph, save_png=True)"
   ]
  },
  {
   "cell_type": "code",
   "execution_count": null,
   "metadata": {},
   "outputs": [],
   "source": []
  }
 ],
 "metadata": {
  "kernelspec": {
   "display_name": "Python 3 (ipykernel)",
   "language": "python",
   "name": "python3"
  },
  "language_info": {
   "codemirror_mode": {
    "name": "ipython",
    "version": 3
   },
   "file_extension": ".py",
   "mimetype": "text/x-python",
   "name": "python",
   "nbconvert_exporter": "python",
   "pygments_lexer": "ipython3",
   "version": "3.10.9"
  }
 },
 "nbformat": 4,
 "nbformat_minor": 1
}
