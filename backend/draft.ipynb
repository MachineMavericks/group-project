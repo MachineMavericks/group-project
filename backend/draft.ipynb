{
 "cells": [
  {
   "cell_type": "markdown",
   "metadata": {},
   "source": [
    "# GRAPH"
   ]
  },
  {
   "cell_type": "code",
   "execution_count": null,
   "metadata": {},
   "outputs": [],
   "source": [
    "# SETTINGS=\n",
    "input_dir = \"resources/data/input/\"\n",
    "output_dir = \"resources/data/output/\""
   ]
  },
  {
   "cell_type": "code",
   "execution_count": null,
   "metadata": {},
   "outputs": [],
   "source": [
    "# GRAPH INITIALIZATION\n",
    "from src.Models.Graph import Graph\n",
    "graph = Graph(filepath=input_dir+\"railway.csv\", output_dir=output_dir, save_csvs=True, save_pickle=True)"
   ]
  },
  {
   "cell_type": "code",
   "execution_count": null,
   "metadata": {},
   "outputs": [],
   "source": [
    "# NXGRAPH INITIALIZATION\n",
    "from src.Models.NXGraph import NXGraph\n",
    "nxgraph = NXGraph(pickle_path=output_dir+\"graph.pickle\", dataset_number=1, day=None)"
   ]
  },
  {
   "cell_type": "markdown",
   "metadata": {},
   "source": []
  },
  {
   "cell_type": "markdown",
   "metadata": {},
   "source": [
    "# DAY-BY-DAY 1ST VISUALIZATION"
   ]
  },
  {
   "cell_type": "code",
   "execution_count": null,
   "metadata": {},
   "outputs": [],
   "source": [
    "# NXGRAPH DAY-BY-DAY VISUALIZATION\n",
    "from src.Draft.NXGraphDraft import *\n",
    "\n",
    "# SETTINGS=\n",
    "n = 3\n",
    "\n",
    "# UNIQUE DAYS VALUES=\n",
    "plt_atleast_day_n_nxgraph(nxgraph, n)   # Graph components that are at least active on day n\n",
    "plt_only_day_n_nxgraph(nxgraph, n)  # Graph components that are active only on day n, and not on any other day\n",
    "\n",
    "# COMBOS OF DAYS=\n",
    "plt_atleast_days_n_nxgraph(nxgraph, [i for i in range(1, n+1)])  # Graph components that are at least active on days 1, 2, ..., n\n",
    "plt_only_days_n_nxgraph(nxgraph, [i for i in range(1, n+1)])  # Graph components that are active only on days 1, 2, ..., n, and not on any other day\n",
    "\n",
    "# 16 FIGURES=\n",
    "plt_16_figure_atleastdays_nxgraph(nxgraph)\n",
    "plt_16_figure_onlydays_nxgraph(nxgraph)"
   ]
  },
  {
   "cell_type": "code",
   "execution_count": null,
   "metadata": {},
   "outputs": [],
   "source": [
    "import ipywidgets as widgets\n",
    "from ipywidgets import IntRangeSlider\n",
    "def update_slider(slider):\n",
    "    min_value = slider[0]\n",
    "    max_value = slider[1]\n",
    "    plt_atleast_days_n_nxgraph(nxgraph, [value for value in range(min_value, max_value+1)])\n",
    "    plt.show()\n",
    "slider = IntRangeSlider(min=1, max=4, step=1, value=[1, 4])\n",
    "widgets.interact(update_slider, slider=slider)"
   ]
  },
  {
   "cell_type": "code",
   "execution_count": null,
   "metadata": {},
   "outputs": [],
   "source": [
    "import ipywidgets as widgets\n",
    "from ipywidgets import IntRangeSlider\n",
    "def update_slider(slider):\n",
    "    min_value = slider[0]\n",
    "    max_value = slider[1]\n",
    "    plt_only_days_n_nxgraph(nxgraph, [value for value in range(min_value, max_value+1)])\n",
    "    plt.show()\n",
    "slider = IntRangeSlider(min=1, max=4, step=1, value=[1, 4])\n",
    "widgets.interact(update_slider, slider=slider)"
   ]
  },
  {
   "cell_type": "markdown",
   "metadata": {},
   "source": []
  },
  {
   "cell_type": "markdown",
   "metadata": {},
   "source": [
    "# DAY-BY-DAY ANALYSIS (2ND APPROACH)"
   ]
  },
  {
   "cell_type": "code",
   "execution_count": null,
   "metadata": {},
   "outputs": [],
   "source": [
    "# NXGRAPH DAY-BY-DAY FILTERING\n",
    "from src.Models.NXGraph import NXGraph\n",
    "nxgraph = NXGraph(pickle_path=output_dir+\"graph.pickle\", dataset_number=1, day=1)"
   ]
  },
  {
   "cell_type": "code",
   "execution_count": null,
   "metadata": {},
   "outputs": [],
   "source": [
    "from tqdm.auto import tqdm\n",
    "import matplotlib.pyplot as plt\n",
    "from src.Models.NXGraph import NXGraph\n",
    "\n",
    "# SETTINGS=\n",
    "days = 20\n",
    "\n",
    "nodes, edges = [], []\n",
    "for day in tqdm(range(1, days+1)):\n",
    "    nxgraph = NXGraph(pickle_path=output_dir+\"graph.pickle\", dataset_number=1, day=day)\n",
    "    nodes.append(nxgraph.number_of_nodes())\n",
    "    edges.append(nxgraph.number_of_edges())\n",
    "plt.plot(nodes, color=\"red\", label=\"Nodes\")\n",
    "plt.plot(edges, color=\"blue\", label=\"Edges\")\n",
    "plt.legend()\n",
    "plt.xlabel(\"Day\")\n",
    "plt.ylabel(\"Number of nodes/edges\")\n",
    "plt.title(\"Nodes and edges over {} days\".format(days))\n",
    "plt.show()"
   ]
  },
  {
   "cell_type": "markdown",
   "metadata": {},
   "source": []
  },
  {
   "cell_type": "markdown",
   "metadata": {},
   "source": [
    "# HEATMAPS"
   ]
  },
  {
   "cell_type": "code",
   "execution_count": null,
   "metadata": {},
   "outputs": [],
   "source": [
    "from src.Draft.NXGraphDraft import *\n",
    "nxgraph = NXGraph(pickle_path=output_dir+\"graph.pickle\", dataset_number=1, day=None)\n",
    "node_passages_plt_heatmap(nxgraph, save_png=True)\n",
    "edge_travels_plt_heatmap(nxgraph, save_png=True)"
   ]
  },
  {
   "cell_type": "code",
   "execution_count": null,
   "metadata": {},
   "outputs": [],
   "source": []
  }
 ],
 "metadata": {
  "kernelspec": {
   "display_name": "Python 3 (ipykernel)",
   "language": "python",
   "name": "python3"
  },
  "language_info": {
   "codemirror_mode": {
    "name": "ipython",
    "version": 3
   },
   "file_extension": ".py",
   "mimetype": "text/x-python",
   "name": "python",
   "nbconvert_exporter": "python",
   "pygments_lexer": "ipython3",
   "version": "3.10.9"
  }
 },
 "nbformat": 4,
 "nbformat_minor": 1
}
